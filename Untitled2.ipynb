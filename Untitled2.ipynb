{
 "cells": [
  {
   "cell_type": "code",
   "execution_count": 1,
   "id": "e8dc66a2-1814-43c3-b34d-101b8821fc5e",
   "metadata": {},
   "outputs": [],
   "source": [
    "import pandas as pd"
   ]
  },
  {
   "cell_type": "code",
   "execution_count": 24,
   "id": "22aa685e-eb5d-4056-a257-71e1b8375557",
   "metadata": {},
   "outputs": [
    {
     "name": "stdout",
     "output_type": "stream",
     "text": [
      "Updated List: ['a', 'b', 'c', 'd', 'e', 'f']\n"
     ]
    }
   ],
   "source": [
    "#creating a list\n",
    "my_list = ['a','b','c','d','e']\n",
    "#adding an element to the List \n",
    "my_list.append('f')\n",
    "print(\"Updated List:\", my_list)"
   ]
  },
  {
   "cell_type": "code",
   "execution_count": 25,
   "id": "edd980eb-2b77-4242-8725-707907eddcd2",
   "metadata": {},
   "outputs": [
    {
     "name": "stdout",
     "output_type": "stream",
     "text": [
      "Updated List: ['a', 'b', 'c', 'e', 'f']\n"
     ]
    }
   ],
   "source": [
    "#removing an element from the List \n",
    "my_list.remove('d')\n",
    "print(\"Updated List:\", my_list)"
   ]
  },
  {
   "cell_type": "code",
   "execution_count": 26,
   "id": "d902ad84-148a-46a1-81f5-34c1304db931",
   "metadata": {},
   "outputs": [
    {
     "name": "stdout",
     "output_type": "stream",
     "text": [
      "Updated List: ['z', 'b', 'c', 'e', 'f']\n"
     ]
    }
   ],
   "source": [
    "#modifying an element in the list \n",
    "my_list[0]='z'\n",
    "print(\"Updated List:\", my_list)"
   ]
  },
  {
   "cell_type": "code",
   "execution_count": 27,
   "id": "e2a1dd59-fd08-4b02-a289-c2b75cdf37f6",
   "metadata": {},
   "outputs": [
    {
     "name": "stdout",
     "output_type": "stream",
     "text": [
      "Updated List: ['z', 'b', 1, 'c', 'e', 'f']\n"
     ]
    }
   ],
   "source": [
    "#inserting an element in our List \n",
    "my_list.insert(2, 1)\n",
    "print(\"Updated List:\", my_list)"
   ]
  },
  {
   "cell_type": "code",
   "execution_count": 18,
   "id": "550e15c1-bd0b-4610-a5b9-6609ed524187",
   "metadata": {},
   "outputs": [
    {
     "name": "stdout",
     "output_type": "stream",
     "text": [
      "Updated Dictionary: {'name': 'Alice', 'age': 25, 'city': 'Delhi', 'gender': 'Female'}\n"
     ]
    }
   ],
   "source": [
    "#creating a dictionary\n",
    "\n",
    "my_dict={'name': 'Alice', 'age': 25, 'city': 'Delhi'}\n",
    "\n",
    "#adding a key-value pair to the dictionary \n",
    "my_dict['gender'] = 'Female'\n",
    "print(\"Updated Dictionary:\", my_dict)"
   ]
  },
  {
   "cell_type": "code",
   "execution_count": 19,
   "id": "fd7fd205-4905-464b-b0de-16b804bae1e9",
   "metadata": {},
   "outputs": [
    {
     "name": "stdout",
     "output_type": "stream",
     "text": [
      "Updated Dictionary: {'name': 'Alice', 'city': 'Delhi', 'gender': 'Female'}\n"
     ]
    }
   ],
   "source": [
    "#removing a key-value pair from the dictionary \n",
    "del my_dict['age']\n",
    "print(\"Updated Dictionary:\", my_dict)"
   ]
  },
  {
   "cell_type": "code",
   "execution_count": 20,
   "id": "e535a5d6-b65c-4d91-8077-dbb2bd847084",
   "metadata": {},
   "outputs": [
    {
     "name": "stdout",
     "output_type": "stream",
     "text": [
      "Updated Dictionary: {'name': 'Alice', 'city': 'Mumbai', 'gender': 'Female'}\n"
     ]
    }
   ],
   "source": [
    "#modifying a value in the dictionary \n",
    "my_dict['city'] = 'Mumbai'\n",
    "print(\"Updated Dictionary:\", my_dict)"
   ]
  },
  {
   "cell_type": "code",
   "execution_count": 4,
   "id": "66bbddfa-ff87-4ead-88a3-2f2eeb4954f1",
   "metadata": {},
   "outputs": [
    {
     "name": "stdout",
     "output_type": "stream",
     "text": [
      "(11, 22, 33, 44)\n"
     ]
    }
   ],
   "source": [
    "# Original tuple\n",
    "\n",
    "original_tuple = (11, 22, 33)\n",
    "\n",
    "#Adding a new element to the tuple \n",
    "new_element = 44\n",
    "updated_tuple = original_tuple + (new_element,)\n",
    "print (updated_tuple)"
   ]
  },
  {
   "cell_type": "code",
   "execution_count": 5,
   "id": "411e43b0-9945-49c0-a29a-1ab69e0d00c3",
   "metadata": {},
   "outputs": [
    {
     "name": "stdout",
     "output_type": "stream",
     "text": [
      "(11, 33)\n"
     ]
    }
   ],
   "source": [
    "#Removing an element from the tuple\n",
    "updated_tuple= original_tuple[:1] + original_tuple [2:]\n",
    "print (updated_tuple)"
   ]
  },
  {
   "cell_type": "code",
   "execution_count": 6,
   "id": "58bfd360-704c-4185-b874-b5a24249d286",
   "metadata": {},
   "outputs": [
    {
     "name": "stdout",
     "output_type": "stream",
     "text": [
      "(11, 22, 55)\n"
     ]
    }
   ],
   "source": [
    "#Modifying an element in the tuple \n",
    "modified_element = 55\n",
    "updated_tuple = original_tuple[:2] + (modified_element,) + original_tuple [3:]\n",
    "\n",
    "print (updated_tuple)"
   ]
  },
  {
   "cell_type": "code",
   "execution_count": null,
   "id": "f4cd3655-d99b-44d0-b056-66c688ee8ab1",
   "metadata": {},
   "outputs": [],
   "source": []
  }
 ],
 "metadata": {
  "kernelspec": {
   "display_name": "Python 3 (ipykernel)",
   "language": "python",
   "name": "python3"
  },
  "language_info": {
   "codemirror_mode": {
    "name": "ipython",
    "version": 3
   },
   "file_extension": ".py",
   "mimetype": "text/x-python",
   "name": "python",
   "nbconvert_exporter": "python",
   "pygments_lexer": "ipython3",
   "version": "3.11.7"
  }
 },
 "nbformat": 4,
 "nbformat_minor": 5
}
